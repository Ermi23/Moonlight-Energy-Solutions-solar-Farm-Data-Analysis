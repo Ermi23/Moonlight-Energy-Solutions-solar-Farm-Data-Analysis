{
 "cells": [
  {
   "cell_type": "markdown",
   "metadata": {},
   "source": [
    "# Exploratory Data Analysis (EDA) on Solar Farm Data For benin-malanville\n",
    "\n",
    "This notebook performs an in-depth analysis of the solar farm data, focusing on various aspects such as summary statistics, data quality checks, time series analysis, and more. The analysis is divided into multiple sections to address different aspects of the data.\n"
   ]
  }
 ],
 "metadata": {
  "kernelspec": {
   "display_name": "venv",
   "language": "python",
   "name": "python3"
  },
  "language_info": {
   "codemirror_mode": {
    "name": "ipython",
    "version": 3
   },
   "file_extension": ".py",
   "mimetype": "text/x-python",
   "name": "python",
   "nbconvert_exporter": "python",
   "pygments_lexer": "ipython3",
   "version": "3.12.0"
  }
 },
 "nbformat": 4,
 "nbformat_minor": 2
}
